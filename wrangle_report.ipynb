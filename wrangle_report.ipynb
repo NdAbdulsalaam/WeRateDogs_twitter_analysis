{
 "cells": [
  {
   "cell_type": "markdown",
   "metadata": {},
   "source": [
    "## Reporting: wragle_report"
   ]
  },
  {
   "cell_type": "markdown",
   "metadata": {},
   "source": [
    "The project makes use of three data sets. The ‘twitter_archive_enhanced.csv’ which was downloaded directly from the ‘WeRateDogs’ twitter archive data, the ‘image_predictions.tsv’ that was downloaded from the tweet image prediction with the use of the request library, and lastly, the tweets using twitter API (tweepy).\n",
    "Data quality issues that were identified include:\n",
    "\n",
    "**In the `archive` table**\n",
    "- Change the datatype for some of the columns e.g timestamp\n",
    "- A lot of missing data in the features\n",
    "- Missing values represented as `None`\n",
    "- Expanded_url containing more than one url\n",
    "\n",
    "**In the `image` table**\n",
    "- Lowercase for P1, P2, and P3 sometimes\n",
    "- Text column not properly formatted\n",
    "\n",
    "**In the `tweet` table**\n",
    "- Extract the date from Created_at column\n",
    "- Rename the Created_at column as Timestamp to bridge uniformity\n",
    "\n",
    "**Data tidiness**\n",
    "- P1, P2, and P3 should be formatted properly in the `image` table\n",
    "- Remove html tags form the source column in the `archive` table\n",
    "- Tweet_id in `archive` table duplicated in `image` and `tweet` tables\n",
    "\n",
    "A new dataset named 'twitter_archive_master' was later genrated, by merging the datasets named above on tweet_id, after all the steps listed above were done. While uniformity of the column names is crucial for readability, it is also important to enable merging of the datasets. Note that the source link in the `archive` table was dimmed neccessary to be extracted from the html tag so as make it more humnan readable and loadable in the browser.\n",
    "Although, not all the data quality and tideness issues were addressed (e.g melting the stages of the dog: `doggo`, `puppo`, `floofer ` and `pupper` should be in a single column), most all the important cleanings were done."
   ]
  },
  {
   "cell_type": "markdown",
   "metadata": {},
   "source": [
    "## Details"
   ]
  },
  {
   "cell_type": "markdown",
   "metadata": {},
   "source": [
    "- There are a lot of missing data in the `archive` table such that `in_reply_to_status_id`, `in_reply_to_user_id`, `retweeted_status_id`, `retweeted_status_user_id` and `retweeted_status_timestamp` columns which contain little or no meaningful data should be dropped.\n",
    "\n",
    "- As for the need for change in the datatype, the following columns were changed <br>\n",
    "    1.`archive`: Timestamp is a datetime and not object <br>\n",
    "    2.`archive`: Tweet_id is an object not an integer <br>\n",
    "    3.`image`: P2_dog is a boolean and not integer <br>\n",
    "    4.`tweet`: Created_at is a datetime and not integer <br>\n",
    "\n",
    "- For the column name formating, the column formally labelled as `created_at` was changed to timestamp in `tweet` table\n",
    "\n",
    "- Formating `p1, p2, and p3` in the image table, dash separating the words was replaced `\"-\"` with space (`\" \"`).\n",
    "\n",
    "- In the `archive` table, `timestamp` and `source` were properly formatted and rewritten in such a way that is much more readable and tidy. These include:\n",
    "    1. Removing the html tags from the `source` column\n",
    "    2. Making the timestamp to contain year, month and day only\n",
    "    3. Choosing only the expanded url that follows the normal pattern\n",
    "    \n",
    "- After merging the table to create the master table, Two columns timestamp_x and timestamp_y were found to be the same as the first and thus were dropped.\n",
    "\n",
    "- Lastly, two additional columns were engineered as it was dimmed fit that they will be reqiured in answering the research questions\n"
   ]
  },
  {
   "cell_type": "code",
   "execution_count": null,
   "metadata": {},
   "outputs": [],
   "source": []
  }
 ],
 "metadata": {
  "kernelspec": {
   "display_name": "Python 3 (ipykernel)",
   "language": "python",
   "name": "python3"
  },
  "language_info": {
   "codemirror_mode": {
    "name": "ipython",
    "version": 3
   },
   "file_extension": ".py",
   "mimetype": "text/x-python",
   "name": "python",
   "nbconvert_exporter": "python",
   "pygments_lexer": "ipython3",
   "version": "3.9.7"
  },
  "vscode": {
   "interpreter": {
    "hash": "ad2bdc8ecc057115af97d19610ffacc2b4e99fae6737bb82f5d7fb13d2f2c186"
   }
  }
 },
 "nbformat": 4,
 "nbformat_minor": 2
}
