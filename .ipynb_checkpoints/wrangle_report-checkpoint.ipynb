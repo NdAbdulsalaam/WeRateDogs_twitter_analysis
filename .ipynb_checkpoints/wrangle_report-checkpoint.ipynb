{
 "cells": [
  {
   "cell_type": "markdown",
   "metadata": {},
   "source": [
    "## Reporting: wragle_report"
   ]
  },
  {
   "cell_type": "markdown",
   "metadata": {},
   "source": [
    "The project makes use of three data sets. The ‘twitter_archive_enhanced.csv’ which was downloaded directly from the ‘WeRateDogs’ twitter archive data, the ‘image_predictions.tsv’ that was downloaded from the tweet image prediction with the use of the request library, and lastly, the tweets using twitter API (tweepy).\n",
    "Data quality issues that were identified include:\n",
    "\n",
    "**In the `archive` table**\n",
    "- Change the datatype for some of the columns e.g timestamp\n",
    "- A lot of missing data in the features\n",
    "- Missing values represented as `None`\n",
    "- Expanded_url containing more than one url\n",
    "\n",
    "**In the `image` table**\n",
    "- Lowercase for P1, P2, and P3 sometimes\n",
    "- Text column not properly formatted\n",
    "\n",
    "**In the `tweet` table**\n",
    "- Extract the date from Created_at column\n",
    "- Rename the Created_at column as Timestamp to bridge uniformity\n",
    "\n",
    "**Data tidiness**\n",
    "- P1, P2, and P3 should be formatted properly in the `image` table\n",
    "- Remove html tags form the source column in the `archive` table\n",
    "- Tweet_id in `archive` table duplicated in `image` and `tweet` tables\n",
    "\n",
    "A new dataset named 'twitter_archive_master' was later genrated, by merging the datasets named above on tweet_id, after all the steps listed above were done. While uniformity of the column names is crucial for readability, it is also important to enable merging of the datasets. Note that the source link in the `archive` table was dimmed neccessary to be extracted from the html tag so as make it more humnan readable and loadable in the browser.\n",
    "Although, not all the data quality and tideness issues were addressed (e.g melting the stages of the dog: `doggo`, `puppo`, `floofer ` and `pupper` should be in a single column), most all the important cleanings were done."
   ]
  },
  {
   "cell_type": "code",
   "execution_count": null,
   "metadata": {},
   "outputs": [],
   "source": []
  }
 ],
 "metadata": {
  "kernelspec": {
   "display_name": "Python 3 (ipykernel)",
   "language": "python",
   "name": "python3"
  },
  "language_info": {
   "codemirror_mode": {
    "name": "ipython",
    "version": 3
   },
   "file_extension": ".py",
   "mimetype": "text/x-python",
   "name": "python",
   "nbconvert_exporter": "python",
   "pygments_lexer": "ipython3",
   "version": "3.9.7"
  },
  "vscode": {
   "interpreter": {
    "hash": "ad2bdc8ecc057115af97d19610ffacc2b4e99fae6737bb82f5d7fb13d2f2c186"
   }
  }
 },
 "nbformat": 4,
 "nbformat_minor": 2
}
