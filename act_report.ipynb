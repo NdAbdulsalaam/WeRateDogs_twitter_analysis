{
 "cells": [
  {
   "cell_type": "markdown",
   "metadata": {},
   "source": [
    "## Report: act_report"
   ]
  },
  {
   "cell_type": "markdown",
   "metadata": {},
   "source": [
    "The main motive of data analysis is to gain insight into the data such that future projection can be done with an appreciable level of accuracy. After cleaning the data given it was stored as 'twitter_archive_master'. The following insights were looked for: \n",
    "\n",
    "1.  Ten top months with the highest favorite count\n",
    "\n",
    "2.  Ten top months with the highest tweet count\n",
    "\n",
    "3.  Influence of the day on the favourite count\n",
    "\n",
    "4.  Finding the correlatiion between the Favorite and retweet counts\n",
    "\n",
    "Here is the summary of the insights: \n",
    "\n",
    "Favorite count and retweet count has been found to reach their peak in June. This can be rationally attributed to the fact that dog festival normally occur at the period. Followed by this month is the month of January for favorite count and December for retweet count. While the third month for the counts is the reverse of their second months (December and January respectively). This must have been due to the fact that months, January and December, are festive periods filled with holidays\n",
    "\n",
    "It was gathered from these insights that the day of the week that normally receive the highest favorite count is Saturday followed by Friday. This may be due to the fact that people will be less busy on these days (weekend). Therefore, it will be wise to target these days for tweet.\n",
    "\n",
    "Also, as expected, the correlation relationship between favorite count and retweet count is positive and close to 1 (0.86). That is, the higher the favorite count, the higher the retweet count and vice versa and that this correlation is so strong.\n",
    "\n",
    "However, the correlations between these features (favorite count and retweet count) with rating numerator and rating denominator are weak. They are positive for the former and negative for the later."
   ]
  },
  {
   "cell_type": "markdown",
   "metadata": {},
   "source": [
    "## Write funtion for the visualization"
   ]
  },
  {
   "cell_type": "code",
   "execution_count": 1,
   "metadata": {},
   "outputs": [],
   "source": [
    "import pandas as pd\n",
    "import matplotlib.pyplot as plt\n",
    "df = pd.read_csv('twitter_archive_master.csv')"
   ]
  },
  {
   "cell_type": "code",
   "execution_count": 2,
   "metadata": {},
   "outputs": [],
   "source": [
    "def barhplot(x, y, xlabel, title):\n",
    "    plt.figure(figsize=  (14, 8))\n",
    "    plt.barh(x, y, align = 'center')\n",
    "    plt.gca().invert_yaxis()\n",
    "    plt.xlabel(xlabel, fontsize = 18)\n",
    "    plt.title(title, fontsize = 18)\n",
    "    plt.show();\n"
   ]
  },
  {
   "cell_type": "markdown",
   "metadata": {},
   "source": [
    "## Ten top months with the highest favorite count"
   ]
  },
  {
   "cell_type": "code",
   "execution_count": 3,
   "metadata": {},
   "outputs": [
    {
     "data": {
      "text/html": [
       "<div>\n",
       "<style scoped>\n",
       "    .dataframe tbody tr th:only-of-type {\n",
       "        vertical-align: middle;\n",
       "    }\n",
       "\n",
       "    .dataframe tbody tr th {\n",
       "        vertical-align: top;\n",
       "    }\n",
       "\n",
       "    .dataframe thead th {\n",
       "        text-align: right;\n",
       "    }\n",
       "</style>\n",
       "<table border=\"1\" class=\"dataframe\">\n",
       "  <thead>\n",
       "    <tr style=\"text-align: right;\">\n",
       "      <th></th>\n",
       "      <th>tweet_id</th>\n",
       "      <th>source</th>\n",
       "      <th>favorite_count</th>\n",
       "      <th>month</th>\n",
       "    </tr>\n",
       "  </thead>\n",
       "  <tbody>\n",
       "    <tr>\n",
       "      <th>836</th>\n",
       "      <td>744234799360020481</td>\n",
       "      <td>http://twitter.com/download/iphone</td>\n",
       "      <td>144897</td>\n",
       "      <td>June</td>\n",
       "    </tr>\n",
       "    <tr>\n",
       "      <th>319</th>\n",
       "      <td>822872901745569793</td>\n",
       "      <td>http://twitter.com/download/iphone</td>\n",
       "      <td>124127</td>\n",
       "      <td>January</td>\n",
       "    </tr>\n",
       "    <tr>\n",
       "      <th>422</th>\n",
       "      <td>807106840509214720</td>\n",
       "      <td>http://twitter.com/download/iphone</td>\n",
       "      <td>111710</td>\n",
       "      <td>December</td>\n",
       "    </tr>\n",
       "    <tr>\n",
       "      <th>110</th>\n",
       "      <td>866450705531457537</td>\n",
       "      <td>http://twitter.com/download/iphone</td>\n",
       "      <td>108924</td>\n",
       "      <td>May</td>\n",
       "    </tr>\n",
       "    <tr>\n",
       "      <th>871</th>\n",
       "      <td>739238157791694849</td>\n",
       "      <td>http://twitter.com/download/iphone</td>\n",
       "      <td>107253</td>\n",
       "      <td>June</td>\n",
       "    </tr>\n",
       "    <tr>\n",
       "      <th>59</th>\n",
       "      <td>879415818425184262</td>\n",
       "      <td>http://twitter.com/download/iphone</td>\n",
       "      <td>92885</td>\n",
       "      <td>June</td>\n",
       "    </tr>\n",
       "    <tr>\n",
       "      <th>348</th>\n",
       "      <td>819004803107983360</td>\n",
       "      <td>http://twitter.com/download/iphone</td>\n",
       "      <td>82714</td>\n",
       "      <td>January</td>\n",
       "    </tr>\n",
       "    <tr>\n",
       "      <th>138</th>\n",
       "      <td>859196978902773760</td>\n",
       "      <td>http://twitter.com/download/iphone</td>\n",
       "      <td>80607</td>\n",
       "      <td>May</td>\n",
       "    </tr>\n",
       "    <tr>\n",
       "      <th>94</th>\n",
       "      <td>870374049280663552</td>\n",
       "      <td>http://twitter.com/download/iphone</td>\n",
       "      <td>73941</td>\n",
       "      <td>June</td>\n",
       "    </tr>\n",
       "    <tr>\n",
       "      <th>1485</th>\n",
       "      <td>678399652199309312</td>\n",
       "      <td>http://twitter.com/download/iphone</td>\n",
       "      <td>73528</td>\n",
       "      <td>December</td>\n",
       "    </tr>\n",
       "  </tbody>\n",
       "</table>\n",
       "</div>"
      ],
      "text/plain": [
       "                tweet_id                              source  favorite_count  \\\n",
       "836   744234799360020481  http://twitter.com/download/iphone          144897   \n",
       "319   822872901745569793  http://twitter.com/download/iphone          124127   \n",
       "422   807106840509214720  http://twitter.com/download/iphone          111710   \n",
       "110   866450705531457537  http://twitter.com/download/iphone          108924   \n",
       "871   739238157791694849  http://twitter.com/download/iphone          107253   \n",
       "59    879415818425184262  http://twitter.com/download/iphone           92885   \n",
       "348   819004803107983360  http://twitter.com/download/iphone           82714   \n",
       "138   859196978902773760  http://twitter.com/download/iphone           80607   \n",
       "94    870374049280663552  http://twitter.com/download/iphone           73941   \n",
       "1485  678399652199309312  http://twitter.com/download/iphone           73528   \n",
       "\n",
       "         month  \n",
       "836       June  \n",
       "319    January  \n",
       "422   December  \n",
       "110        May  \n",
       "871       June  \n",
       "59        June  \n",
       "348    January  \n",
       "138        May  \n",
       "94        June  \n",
       "1485  December  "
      ]
     },
     "execution_count": 3,
     "metadata": {},
     "output_type": "execute_result"
    }
   ],
   "source": [
    "top = df.sort_values(by = 'favorite_count', ascending = False)\n",
    "top_10 = top[['tweet_id', 'source', 'favorite_count', 'month']].head(10)\n",
    "top_10"
   ]
  },
  {
   "cell_type": "code",
   "execution_count": 4,
   "metadata": {},
   "outputs": [
    {
     "data": {
      "image/png": "[encoded data removed]",
      "text/plain": [
       "<Figure size 1008x576 with 1 Axes>"
      ]
     },
     "metadata": {
      "needs_background": "light"
     },
     "output_type": "display_data"
    }
   ],
   "source": [
    "barhplot(top_10.month, top_10.favorite_count, \"Favorite Count\", \"Months with the highest favorite count\")"
   ]
  },
  {
   "cell_type": "markdown",
   "metadata": {},
   "source": [
    "## Ten top months with the highest Retweet count"
   ]
  },
  {
   "cell_type": "code",
   "execution_count": 5,
   "metadata": {},
   "outputs": [
    {
     "data": {
      "text/html": [
       "<div>\n",
       "<style scoped>\n",
       "    .dataframe tbody tr th:only-of-type {\n",
       "        vertical-align: middle;\n",
       "    }\n",
       "\n",
       "    .dataframe tbody tr th {\n",
       "        vertical-align: top;\n",
       "    }\n",
       "\n",
       "    .dataframe thead th {\n",
       "        text-align: right;\n",
       "    }\n",
       "</style>\n",
       "<table border=\"1\" class=\"dataframe\">\n",
       "  <thead>\n",
       "    <tr style=\"text-align: right;\">\n",
       "      <th></th>\n",
       "      <th>tweet_id</th>\n",
       "      <th>source</th>\n",
       "      <th>text</th>\n",
       "      <th>retweet_count</th>\n",
       "      <th>month</th>\n",
       "    </tr>\n",
       "  </thead>\n",
       "  <tbody>\n",
       "    <tr>\n",
       "      <th>836</th>\n",
       "      <td>744234799360020481</td>\n",
       "      <td>http://twitter.com/download/iphone</td>\n",
       "      <td>Here's a doggo realizing you can stand in a po...</td>\n",
       "      <td>70742</td>\n",
       "      <td>June</td>\n",
       "    </tr>\n",
       "    <tr>\n",
       "      <th>871</th>\n",
       "      <td>739238157791694849</td>\n",
       "      <td>http://twitter.com/download/iphone</td>\n",
       "      <td>Here's a doggo blowing bubbles. It's downright...</td>\n",
       "      <td>52908</td>\n",
       "      <td>June</td>\n",
       "    </tr>\n",
       "    <tr>\n",
       "      <th>422</th>\n",
       "      <td>807106840509214720</td>\n",
       "      <td>http://twitter.com/download/iphone</td>\n",
       "      <td>This is Stephan. He just wants to help. 13/10 ...</td>\n",
       "      <td>51687</td>\n",
       "      <td>December</td>\n",
       "    </tr>\n",
       "    <tr>\n",
       "      <th>319</th>\n",
       "      <td>822872901745569793</td>\n",
       "      <td>http://twitter.com/download/iphone</td>\n",
       "      <td>Here's a super supportive puppo participating ...</td>\n",
       "      <td>39926</td>\n",
       "      <td>January</td>\n",
       "    </tr>\n",
       "    <tr>\n",
       "      <th>59</th>\n",
       "      <td>879415818425184262</td>\n",
       "      <td>http://twitter.com/download/iphone</td>\n",
       "      <td>This is Duddles. He did an attempt. 13/10 some...</td>\n",
       "      <td>37457</td>\n",
       "      <td>June</td>\n",
       "    </tr>\n",
       "  </tbody>\n",
       "</table>\n",
       "</div>"
      ],
      "text/plain": [
       "               tweet_id                              source  \\\n",
       "836  744234799360020481  http://twitter.com/download/iphone   \n",
       "871  739238157791694849  http://twitter.com/download/iphone   \n",
       "422  807106840509214720  http://twitter.com/download/iphone   \n",
       "319  822872901745569793  http://twitter.com/download/iphone   \n",
       "59   879415818425184262  http://twitter.com/download/iphone   \n",
       "\n",
       "                                                  text  retweet_count  \\\n",
       "836  Here's a doggo realizing you can stand in a po...          70742   \n",
       "871  Here's a doggo blowing bubbles. It's downright...          52908   \n",
       "422  This is Stephan. He just wants to help. 13/10 ...          51687   \n",
       "319  Here's a super supportive puppo participating ...          39926   \n",
       "59   This is Duddles. He did an attempt. 13/10 some...          37457   \n",
       "\n",
       "        month  \n",
       "836      June  \n",
       "871      June  \n",
       "422  December  \n",
       "319   January  \n",
       "59       June  "
      ]
     },
     "execution_count": 5,
     "metadata": {},
     "output_type": "execute_result"
    }
   ],
   "source": [
    "top = df.sort_values(by = 'retweet_count', ascending = False)\n",
    "top_10 = top[['tweet_id', 'source', 'text', 'retweet_count', 'month']].head(10)\n",
    "top_10.head()"
   ]
  },
  {
   "cell_type": "code",
   "execution_count": 6,
   "metadata": {},
   "outputs": [
    {
     "data": {
      "image/png": "[encoded data removed]",
      "text/plain": [
       "<Figure size 1008x576 with 1 Axes>"
      ]
     },
     "metadata": {
      "needs_background": "light"
     },
     "output_type": "display_data"
    }
   ],
   "source": [
    "barhplot(top_10.month, top_10.retweet_count, \"Retweet Count\", \"Months with the highest tweet count\")"
   ]
  },
  {
   "cell_type": "markdown",
   "metadata": {},
   "source": [
    "Favorite count and retweet count has been found to reach their peak in June. This can be rationally attributed to the fact that dog festival normally occur at the period. Followed by this month is the month of January for favorite count and December for retweet count. While the third month for the counts is the reverse of their second months (December and January respectively). This must have been due to the fact that months, January and December, are festive periods filled with holidays."
   ]
  },
  {
   "cell_type": "markdown",
   "metadata": {},
   "source": [
    "## Influence of the day on the favourite_count"
   ]
  },
  {
   "cell_type": "code",
   "execution_count": 7,
   "metadata": {},
   "outputs": [
    {
     "data": {
      "text/html": [
       "<div>\n",
       "<style scoped>\n",
       "    .dataframe tbody tr th:only-of-type {\n",
       "        vertical-align: middle;\n",
       "    }\n",
       "\n",
       "    .dataframe tbody tr th {\n",
       "        vertical-align: top;\n",
       "    }\n",
       "\n",
       "    .dataframe thead th {\n",
       "        text-align: right;\n",
       "    }\n",
       "</style>\n",
       "<table border=\"1\" class=\"dataframe\">\n",
       "  <thead>\n",
       "    <tr style=\"text-align: right;\">\n",
       "      <th></th>\n",
       "      <th>tweet_id</th>\n",
       "      <th>source</th>\n",
       "      <th>text</th>\n",
       "      <th>favorite_count</th>\n",
       "      <th>day</th>\n",
       "    </tr>\n",
       "  </thead>\n",
       "  <tbody>\n",
       "    <tr>\n",
       "      <th>836</th>\n",
       "      <td>744234799360020481</td>\n",
       "      <td>http://twitter.com/download/iphone</td>\n",
       "      <td>Here's a doggo realizing you can stand in a po...</td>\n",
       "      <td>144897</td>\n",
       "      <td>Saturday</td>\n",
       "    </tr>\n",
       "    <tr>\n",
       "      <th>319</th>\n",
       "      <td>822872901745569793</td>\n",
       "      <td>http://twitter.com/download/iphone</td>\n",
       "      <td>Here's a super supportive puppo participating ...</td>\n",
       "      <td>124127</td>\n",
       "      <td>Saturday</td>\n",
       "    </tr>\n",
       "    <tr>\n",
       "      <th>422</th>\n",
       "      <td>807106840509214720</td>\n",
       "      <td>http://twitter.com/download/iphone</td>\n",
       "      <td>This is Stephan. He just wants to help. 13/10 ...</td>\n",
       "      <td>111710</td>\n",
       "      <td>Friday</td>\n",
       "    </tr>\n",
       "    <tr>\n",
       "      <th>110</th>\n",
       "      <td>866450705531457537</td>\n",
       "      <td>http://twitter.com/download/iphone</td>\n",
       "      <td>This is Jamesy. He gives a kiss to every other...</td>\n",
       "      <td>108924</td>\n",
       "      <td>Monday</td>\n",
       "    </tr>\n",
       "    <tr>\n",
       "      <th>871</th>\n",
       "      <td>739238157791694849</td>\n",
       "      <td>http://twitter.com/download/iphone</td>\n",
       "      <td>Here's a doggo blowing bubbles. It's downright...</td>\n",
       "      <td>107253</td>\n",
       "      <td>Saturday</td>\n",
       "    </tr>\n",
       "  </tbody>\n",
       "</table>\n",
       "</div>"
      ],
      "text/plain": [
       "               tweet_id                              source  \\\n",
       "836  744234799360020481  http://twitter.com/download/iphone   \n",
       "319  822872901745569793  http://twitter.com/download/iphone   \n",
       "422  807106840509214720  http://twitter.com/download/iphone   \n",
       "110  866450705531457537  http://twitter.com/download/iphone   \n",
       "871  739238157791694849  http://twitter.com/download/iphone   \n",
       "\n",
       "                                                  text  favorite_count  \\\n",
       "836  Here's a doggo realizing you can stand in a po...          144897   \n",
       "319  Here's a super supportive puppo participating ...          124127   \n",
       "422  This is Stephan. He just wants to help. 13/10 ...          111710   \n",
       "110  This is Jamesy. He gives a kiss to every other...          108924   \n",
       "871  Here's a doggo blowing bubbles. It's downright...          107253   \n",
       "\n",
       "          day  \n",
       "836  Saturday  \n",
       "319  Saturday  \n",
       "422    Friday  \n",
       "110    Monday  \n",
       "871  Saturday  "
      ]
     },
     "execution_count": 7,
     "metadata": {},
     "output_type": "execute_result"
    }
   ],
   "source": [
    "top = df.groupby(by = 'day')\n",
    "top = df.sort_values(by = 'favorite_count', ascending = False)\n",
    "top_10 = top[['tweet_id', 'source', 'text', 'favorite_count', 'day']].head(10)\n",
    "top_10.head()"
   ]
  },
  {
   "cell_type": "code",
   "execution_count": 8,
   "metadata": {},
   "outputs": [
    {
     "data": {
      "image/png": "[encoded data removed]",
      "text/plain": [
       "<Figure size 1008x576 with 1 Axes>"
      ]
     },
     "metadata": {
      "needs_background": "light"
     },
     "output_type": "display_data"
    }
   ],
   "source": [
    "barhplot(top_10.day, top_10.favorite_count, \"Favorite Count\", \"Influence of the day on the favourite count\")"
   ]
  },
  {
   "cell_type": "markdown",
   "metadata": {},
   "source": [
    "It was gathered from these insights that the day of the week that normally receive the highest favorite count is Saturday followed by Friday. This may be due to the fact that people will be less busy on these days (weekend). Therefore, it will be wise to target these days for tweet."
   ]
  },
  {
   "cell_type": "markdown",
   "metadata": {},
   "source": [
    "## Finding the correlatiion between the Favorite and retweet counts"
   ]
  },
  {
   "cell_type": "code",
   "execution_count": 9,
   "metadata": {},
   "outputs": [
    {
     "data": {
      "text/plain": [
       "0.8610297825285088"
      ]
     },
     "execution_count": 9,
     "metadata": {},
     "output_type": "execute_result"
    }
   ],
   "source": [
    "df.favorite_count.corr(df.retweet_count)"
   ]
  },
  {
   "cell_type": "markdown",
   "metadata": {},
   "source": [
    "## Visualization"
   ]
  },
  {
   "cell_type": "code",
   "execution_count": 10,
   "metadata": {
    "scrolled": false
   },
   "outputs": [
    {
     "data": {
      "image/png": "[encoded data removed]",
      "text/plain": [
       "<Figure size 1080x936 with 1 Axes>"
      ]
     },
     "metadata": {
      "needs_background": "light"
     },
     "output_type": "display_data"
    }
   ],
   "source": [
    "plt.figure(figsize=(15, 13))\n",
    "ax = plt.axes()\n",
    "ax.scatter(df.favorite_count, df.retweet_count)\n",
    "\n",
    "ax.set_xlabel('Favorite Count')\n",
    "ax.set_ylabel('Retweet Count')\n",
    "ax.set_title('Correlatiion Between the Favorite and Retweet Counts')\n",
    "\n",
    "ax.axis('tight')\n",
    "\n",
    "plt.show()"
   ]
  },
  {
   "cell_type": "markdown",
   "metadata": {},
   "source": [
    "Also, as expected, the correlation relationship between favorite count and retweet count is positive and close to 1 (0.86). That is, the higher the favorite count, the higher the retweet count and vice versa and that this correlation is so strong."
   ]
  },
  {
   "cell_type": "code",
   "execution_count": 11,
   "metadata": {},
   "outputs": [
    {
     "data": {
      "text/plain": [
       "0.01605740884435733"
      ]
     },
     "execution_count": 11,
     "metadata": {},
     "output_type": "execute_result"
    }
   ],
   "source": [
    "df.favorite_count.corr(df.rating_numerator)"
   ]
  },
  {
   "cell_type": "code",
   "execution_count": 12,
   "metadata": {},
   "outputs": [
    {
     "data": {
      "text/plain": [
       "-0.025221199482836947"
      ]
     },
     "execution_count": 12,
     "metadata": {},
     "output_type": "execute_result"
    }
   ],
   "source": [
    "df.favorite_count.corr(df.rating_denominator)"
   ]
  },
  {
   "cell_type": "code",
   "execution_count": 13,
   "metadata": {},
   "outputs": [
    {
     "data": {
      "text/plain": [
       "0.0176592027462129"
      ]
     },
     "execution_count": 13,
     "metadata": {},
     "output_type": "execute_result"
    }
   ],
   "source": [
    "df.retweet_count.corr(df.rating_numerator)"
   ]
  },
  {
   "cell_type": "code",
   "execution_count": 14,
   "metadata": {},
   "outputs": [
    {
     "data": {
      "text/plain": [
       "-0.021366610584886505"
      ]
     },
     "execution_count": 14,
     "metadata": {},
     "output_type": "execute_result"
    }
   ],
   "source": [
    "df.retweet_count.corr(df.rating_denominator)"
   ]
  },
  {
   "cell_type": "markdown",
   "metadata": {},
   "source": [
    "However, the correlations between these features (favorite count and retweet count) with rating numerator and rating denominator are weak. They are positive for the former and negativefor the later."
   ]
  },
  {
   "cell_type": "code",
   "execution_count": null,
   "metadata": {},
   "outputs": [],
   "source": []
  }
 ],
 "metadata": {
  "kernelspec": {
   "display_name": "Python 3 (ipykernel)",
   "language": "python",
   "name": "python3"
  },
  "language_info": {
   "codemirror_mode": {
    "name": "ipython",
    "version": 3
   },
   "file_extension": ".py",
   "mimetype": "text/x-python",
   "name": "python",
   "nbconvert_exporter": "python",
   "pygments_lexer": "ipython3",
   "version": "3.9.7"
  },
  "vscode": {
   "interpreter": {
    "hash": "ad2bdc8ecc057115af97d19610ffacc2b4e99fae6737bb82f5d7fb13d2f2c186"
   }
  }
 },
 "nbformat": 4,
 "nbformat_minor": 2
}
